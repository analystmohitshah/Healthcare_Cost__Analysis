{
 "cells": [
  {
   "cell_type": "markdown",
   "id": "26880a15-6fa0-449f-aec7-b9d3fdfcfa1c",
   "metadata": {},
   "source": [
    "## Healthcare expense allocation analysis"
   ]
  },
  {
   "cell_type": "markdown",
   "id": "d6097a50-13ac-42d0-8e37-5109e0f9ec9b",
   "metadata": {},
   "source": [
    "### Importing libraries"
   ]
  },
  {
   "cell_type": "code",
   "execution_count": 19,
   "id": "2b1533ec-38cc-43b3-9061-21b953cee466",
   "metadata": {},
   "outputs": [],
   "source": [
    "import pandas as pd"
   ]
  },
  {
   "cell_type": "markdown",
   "id": "9be38b82-3f35-4cfb-8a8b-39d1b48c5c87",
   "metadata": {},
   "source": [
    "### Loading and Cleaning data"
   ]
  },
  {
   "cell_type": "code",
   "execution_count": 39,
   "id": "2a18b567-e6b0-4236-a83a-50fd3d2a8a7b",
   "metadata": {},
   "outputs": [
    {
     "data": {
      "text/html": [
       "<div>\n",
       "<style scoped>\n",
       "    .dataframe tbody tr th:only-of-type {\n",
       "        vertical-align: middle;\n",
       "    }\n",
       "\n",
       "    .dataframe tbody tr th {\n",
       "        vertical-align: top;\n",
       "    }\n",
       "\n",
       "    .dataframe thead th {\n",
       "        text-align: right;\n",
       "    }\n",
       "</style>\n",
       "<table border=\"1\" class=\"dataframe\">\n",
       "  <thead>\n",
       "    <tr style=\"text-align: right;\">\n",
       "      <th></th>\n",
       "      <th>organization_id</th>\n",
       "      <th>health_centre_number</th>\n",
       "      <th>health_centre_name</th>\n",
       "      <th>expenses</th>\n",
       "    </tr>\n",
       "  </thead>\n",
       "  <tbody>\n",
       "    <tr>\n",
       "      <th>0</th>\n",
       "      <td>1</td>\n",
       "      <td>10</td>\n",
       "      <td>Medical Specialty Clinic</td>\n",
       "      <td>5,000,000</td>\n",
       "    </tr>\n",
       "    <tr>\n",
       "      <th>1</th>\n",
       "      <td>1</td>\n",
       "      <td>50</td>\n",
       "      <td>Diabetes Specialty Clinic</td>\n",
       "      <td>10,000,000</td>\n",
       "    </tr>\n",
       "    <tr>\n",
       "      <th>2</th>\n",
       "      <td>1</td>\n",
       "      <td>65</td>\n",
       "      <td>Metabolic Specialty Clinic</td>\n",
       "      <td>12,500,000</td>\n",
       "    </tr>\n",
       "    <tr>\n",
       "      <th>3</th>\n",
       "      <td>1</td>\n",
       "      <td>82</td>\n",
       "      <td>Mental Health Specialty Clinic</td>\n",
       "      <td>500,000</td>\n",
       "    </tr>\n",
       "    <tr>\n",
       "      <th>4</th>\n",
       "      <td>2</td>\n",
       "      <td>10</td>\n",
       "      <td>Medical Specialty Clinic</td>\n",
       "      <td>3,000,000</td>\n",
       "    </tr>\n",
       "  </tbody>\n",
       "</table>\n",
       "</div>"
      ],
      "text/plain": [
       "   organization_id  health_centre_number              health_centre_name  \\\n",
       "0                1                    10        Medical Specialty Clinic   \n",
       "1                1                    50       Diabetes Specialty Clinic   \n",
       "2                1                    65      Metabolic Specialty Clinic   \n",
       "3                1                    82  Mental Health Specialty Clinic   \n",
       "4                2                    10        Medical Specialty Clinic   \n",
       "\n",
       "     expenses  \n",
       "0   5,000,000  \n",
       "1  10,000,000  \n",
       "2  12,500,000  \n",
       "3     500,000  \n",
       "4   3,000,000  "
      ]
     },
     "metadata": {},
     "output_type": "display_data"
    }
   ],
   "source": [
    "# Load expenses CSV\n",
    "expenses = pd.read_csv('expenses.csv')\n",
    "\n",
    "# Standardize column names\n",
    "expenses.columns = expenses.columns.str.strip().str.lower().str.replace(' ', '_')\n",
    "\n",
    "# Drop rows where both key columns are NaN\n",
    "expenses = expenses.dropna(subset=[\"organization_id\", \"health_centre_number\"], how=\"all\")\n",
    "\n",
    "# Ensure columns are nullable integers\n",
    "expenses['organization_id'] = expenses['organization_id'].astype('Int64')\n",
    "expenses['health_centre_number'] = expenses['health_centre_number'].astype('Int64')\n",
    "\n",
    "# Display first rows\n",
    "display(expenses.head())"
   ]
  },
  {
   "cell_type": "code",
   "execution_count": 43,
   "id": "3bb2b18a-761c-44c2-8ed3-1a33b25dfd55",
   "metadata": {},
   "outputs": [
    {
     "data": {
      "text/html": [
       "<div>\n",
       "<style scoped>\n",
       "    .dataframe tbody tr th:only-of-type {\n",
       "        vertical-align: middle;\n",
       "    }\n",
       "\n",
       "    .dataframe tbody tr th {\n",
       "        vertical-align: top;\n",
       "    }\n",
       "\n",
       "    .dataframe thead th {\n",
       "        text-align: right;\n",
       "    }\n",
       "</style>\n",
       "<table border=\"1\" class=\"dataframe\">\n",
       "  <thead>\n",
       "    <tr style=\"text-align: right;\">\n",
       "      <th></th>\n",
       "      <th>organization_id</th>\n",
       "      <th>health_centre_number</th>\n",
       "      <th>health_centre_name</th>\n",
       "      <th>visits</th>\n",
       "    </tr>\n",
       "  </thead>\n",
       "  <tbody>\n",
       "    <tr>\n",
       "      <th>0</th>\n",
       "      <td>1</td>\n",
       "      <td>10</td>\n",
       "      <td>Medical Specialty Clinic</td>\n",
       "      <td>20,000</td>\n",
       "    </tr>\n",
       "    <tr>\n",
       "      <th>1</th>\n",
       "      <td>1</td>\n",
       "      <td>50</td>\n",
       "      <td>Diabetes Specialty Clinic</td>\n",
       "      <td>44,444</td>\n",
       "    </tr>\n",
       "    <tr>\n",
       "      <th>2</th>\n",
       "      <td>1</td>\n",
       "      <td>65</td>\n",
       "      <td>Metabolic Specialty Clinic</td>\n",
       "      <td>27,778</td>\n",
       "    </tr>\n",
       "    <tr>\n",
       "      <th>3</th>\n",
       "      <td>1</td>\n",
       "      <td>82</td>\n",
       "      <td>Mental Health Specialty Clinic</td>\n",
       "      <td>NaN</td>\n",
       "    </tr>\n",
       "    <tr>\n",
       "      <th>5</th>\n",
       "      <td>2</td>\n",
       "      <td>10</td>\n",
       "      <td>Medical Specialty Clinic</td>\n",
       "      <td>10,909</td>\n",
       "    </tr>\n",
       "  </tbody>\n",
       "</table>\n",
       "</div>"
      ],
      "text/plain": [
       "   organization_id  health_centre_number              health_centre_name  \\\n",
       "0                1                    10        Medical Specialty Clinic   \n",
       "1                1                    50       Diabetes Specialty Clinic   \n",
       "2                1                    65      Metabolic Specialty Clinic   \n",
       "3                1                    82  Mental Health Specialty Clinic   \n",
       "5                2                    10        Medical Specialty Clinic   \n",
       "\n",
       "   visits  \n",
       "0  20,000  \n",
       "1  44,444  \n",
       "2  27,778  \n",
       "3     NaN  \n",
       "5  10,909  "
      ]
     },
     "metadata": {},
     "output_type": "display_data"
    }
   ],
   "source": [
    "# Load visits CSV \n",
    "visits = pd.read_csv('visits.csv')\n",
    "\n",
    "# Standardize column names\n",
    "visits.columns = visits.columns.str.strip().str.lower().str.replace(' ', '_')\n",
    "\n",
    "# Drop rows where both key columns are NaN\n",
    "visits = visits.dropna(subset=[\"organization_id\", \"health_centre_number\"], how=\"all\")\n",
    "\n",
    "# Ensure columns are nullable integers\n",
    "visits['organization_id'] = visits['organization_id'].astype('Int64')\n",
    "visits['health_centre_number'] = visits['health_centre_number'].astype('Int64')\n",
    "\n",
    "# Display first rows\n",
    "display(visits.head())"
   ]
  },
  {
   "cell_type": "markdown",
   "id": "60bcc26a-7a48-442e-a30f-2898427c5779",
   "metadata": {},
   "source": [
    "### Merging two tables"
   ]
  },
  {
   "cell_type": "code",
   "execution_count": 45,
   "id": "1f217131-9eee-4805-9e46-2b083a58aede",
   "metadata": {},
   "outputs": [
    {
     "data": {
      "text/html": [
       "<div>\n",
       "<style scoped>\n",
       "    .dataframe tbody tr th:only-of-type {\n",
       "        vertical-align: middle;\n",
       "    }\n",
       "\n",
       "    .dataframe tbody tr th {\n",
       "        vertical-align: top;\n",
       "    }\n",
       "\n",
       "    .dataframe thead th {\n",
       "        text-align: right;\n",
       "    }\n",
       "</style>\n",
       "<table border=\"1\" class=\"dataframe\">\n",
       "  <thead>\n",
       "    <tr style=\"text-align: right;\">\n",
       "      <th></th>\n",
       "      <th>organization_id</th>\n",
       "      <th>health_centre_number</th>\n",
       "      <th>health_centre_name</th>\n",
       "      <th>expenses</th>\n",
       "      <th>visits</th>\n",
       "    </tr>\n",
       "  </thead>\n",
       "  <tbody>\n",
       "    <tr>\n",
       "      <th>0</th>\n",
       "      <td>1</td>\n",
       "      <td>10</td>\n",
       "      <td>Medical Specialty Clinic</td>\n",
       "      <td>5,000,000</td>\n",
       "      <td>20,000</td>\n",
       "    </tr>\n",
       "    <tr>\n",
       "      <th>1</th>\n",
       "      <td>1</td>\n",
       "      <td>50</td>\n",
       "      <td>Diabetes Specialty Clinic</td>\n",
       "      <td>10,000,000</td>\n",
       "      <td>44,444</td>\n",
       "    </tr>\n",
       "    <tr>\n",
       "      <th>2</th>\n",
       "      <td>1</td>\n",
       "      <td>65</td>\n",
       "      <td>Metabolic Specialty Clinic</td>\n",
       "      <td>12,500,000</td>\n",
       "      <td>27,778</td>\n",
       "    </tr>\n",
       "    <tr>\n",
       "      <th>3</th>\n",
       "      <td>1</td>\n",
       "      <td>82</td>\n",
       "      <td>Mental Health Specialty Clinic</td>\n",
       "      <td>500,000</td>\n",
       "      <td>NaN</td>\n",
       "    </tr>\n",
       "    <tr>\n",
       "      <th>4</th>\n",
       "      <td>2</td>\n",
       "      <td>10</td>\n",
       "      <td>Medical Specialty Clinic</td>\n",
       "      <td>3,000,000</td>\n",
       "      <td>10,909</td>\n",
       "    </tr>\n",
       "  </tbody>\n",
       "</table>\n",
       "</div>"
      ],
      "text/plain": [
       "   organization_id  health_centre_number              health_centre_name  \\\n",
       "0                1                    10        Medical Specialty Clinic   \n",
       "1                1                    50       Diabetes Specialty Clinic   \n",
       "2                1                    65      Metabolic Specialty Clinic   \n",
       "3                1                    82  Mental Health Specialty Clinic   \n",
       "4                2                    10        Medical Specialty Clinic   \n",
       "\n",
       "     expenses  visits  \n",
       "0   5,000,000  20,000  \n",
       "1  10,000,000  44,444  \n",
       "2  12,500,000  27,778  \n",
       "3     500,000     NaN  \n",
       "4   3,000,000  10,909  "
      ]
     },
     "metadata": {},
     "output_type": "display_data"
    }
   ],
   "source": [
    "# Merge two tables on common columns\n",
    "\n",
    "# Merge and exclude the duplicate column from visits\n",
    "visits_columns_to_add = [col for col in visits.columns if col not in ['organization_id', 'health_centre_number', 'health_centre_name']]\n",
    "\n",
    "merged_df = pd.merge(\n",
    "    expenses,\n",
    "    visits[['organization_id', 'health_centre_number'] + visits_columns_to_add],\n",
    "    how='inner',\n",
    "    on=['organization_id', 'health_centre_number']\n",
    ")\n",
    "\n",
    "# functional_center_name from expenses is kept\n",
    "display(merged_df.head())"
   ]
  },
  {
   "cell_type": "markdown",
   "id": "110c7144-ac56-4724-9120-7eb6bca941ce",
   "metadata": {},
   "source": [
    "### Calculating expenses per visit"
   ]
  },
  {
   "cell_type": "code",
   "execution_count": 55,
   "id": "859790d9-4076-4037-93ae-14904ae2472e",
   "metadata": {},
   "outputs": [
    {
     "data": {
      "text/html": [
       "<div>\n",
       "<style scoped>\n",
       "    .dataframe tbody tr th:only-of-type {\n",
       "        vertical-align: middle;\n",
       "    }\n",
       "\n",
       "    .dataframe tbody tr th {\n",
       "        vertical-align: top;\n",
       "    }\n",
       "\n",
       "    .dataframe thead th {\n",
       "        text-align: right;\n",
       "    }\n",
       "</style>\n",
       "<table border=\"1\" class=\"dataframe\">\n",
       "  <thead>\n",
       "    <tr style=\"text-align: right;\">\n",
       "      <th></th>\n",
       "      <th>organization_id</th>\n",
       "      <th>health_centre_number</th>\n",
       "      <th>health_centre_name</th>\n",
       "      <th>expenses</th>\n",
       "      <th>visits</th>\n",
       "      <th>expense_per_visit</th>\n",
       "    </tr>\n",
       "  </thead>\n",
       "  <tbody>\n",
       "    <tr>\n",
       "      <th>0</th>\n",
       "      <td>1</td>\n",
       "      <td>10</td>\n",
       "      <td>Medical Specialty Clinic</td>\n",
       "      <td>5000000.0</td>\n",
       "      <td>20000.0</td>\n",
       "      <td>250.0</td>\n",
       "    </tr>\n",
       "    <tr>\n",
       "      <th>1</th>\n",
       "      <td>1</td>\n",
       "      <td>50</td>\n",
       "      <td>Diabetes Specialty Clinic</td>\n",
       "      <td>10000000.0</td>\n",
       "      <td>44444.0</td>\n",
       "      <td>225.0</td>\n",
       "    </tr>\n",
       "    <tr>\n",
       "      <th>2</th>\n",
       "      <td>1</td>\n",
       "      <td>65</td>\n",
       "      <td>Metabolic Specialty Clinic</td>\n",
       "      <td>12500000.0</td>\n",
       "      <td>27778.0</td>\n",
       "      <td>450.0</td>\n",
       "    </tr>\n",
       "    <tr>\n",
       "      <th>3</th>\n",
       "      <td>1</td>\n",
       "      <td>82</td>\n",
       "      <td>Mental Health Specialty Clinic</td>\n",
       "      <td>500000.0</td>\n",
       "      <td>0.0</td>\n",
       "      <td>0.0</td>\n",
       "    </tr>\n",
       "    <tr>\n",
       "      <th>4</th>\n",
       "      <td>2</td>\n",
       "      <td>10</td>\n",
       "      <td>Medical Specialty Clinic</td>\n",
       "      <td>3000000.0</td>\n",
       "      <td>10909.0</td>\n",
       "      <td>275.0</td>\n",
       "    </tr>\n",
       "  </tbody>\n",
       "</table>\n",
       "</div>"
      ],
      "text/plain": [
       "   organization_id  health_centre_number              health_centre_name  \\\n",
       "0                1                    10        Medical Specialty Clinic   \n",
       "1                1                    50       Diabetes Specialty Clinic   \n",
       "2                1                    65      Metabolic Specialty Clinic   \n",
       "3                1                    82  Mental Health Specialty Clinic   \n",
       "4                2                    10        Medical Specialty Clinic   \n",
       "\n",
       "     expenses   visits  expense_per_visit  \n",
       "0   5000000.0  20000.0              250.0  \n",
       "1  10000000.0  44444.0              225.0  \n",
       "2  12500000.0  27778.0              450.0  \n",
       "3    500000.0      0.0                0.0  \n",
       "4   3000000.0  10909.0              275.0  "
      ]
     },
     "metadata": {},
     "output_type": "display_data"
    }
   ],
   "source": [
    "# Handling missind data\n",
    "merged_df['expenses'] = merged_df['expenses'].astype(str).str.replace(',', '').astype(float)\n",
    "merged_df['visits'] = merged_df['visits'].astype(str).str.replace(',', '').astype(float)\n",
    "\n",
    "# Filling missing visit with 0 to avoid division erros\n",
    "merged_df['visits'] = merged_df['visits'].fillna(0) \n",
    "\n",
    "# Calculation of expenses per visit and display it as an added column\n",
    "merged_df['expense_per_visit'] = merged_df.apply(\n",
    "    lambda row: row['expenses'] / row['visits'] if row['visits'] > 0 else 0,\n",
    "    axis=1\n",
    ").round(2)\n",
    "\n",
    "display(merged_df.head())"
   ]
  },
  {
   "cell_type": "markdown",
   "id": "5dd65c14-8497-4bbd-8599-2c47e2c8fbee",
   "metadata": {},
   "source": [
    "### Calculating average expense per visit for each centre"
   ]
  },
  {
   "cell_type": "code",
   "execution_count": 59,
   "id": "abfc33df-80c9-4bdf-9cf7-75ef3cb6acdc",
   "metadata": {},
   "outputs": [
    {
     "data": {
      "text/html": [
       "<div>\n",
       "<style scoped>\n",
       "    .dataframe tbody tr th:only-of-type {\n",
       "        vertical-align: middle;\n",
       "    }\n",
       "\n",
       "    .dataframe tbody tr th {\n",
       "        vertical-align: top;\n",
       "    }\n",
       "\n",
       "    .dataframe thead th {\n",
       "        text-align: right;\n",
       "    }\n",
       "</style>\n",
       "<table border=\"1\" class=\"dataframe\">\n",
       "  <thead>\n",
       "    <tr style=\"text-align: right;\">\n",
       "      <th></th>\n",
       "      <th>health_centre_number</th>\n",
       "      <th>health_centre_name</th>\n",
       "      <th>average_expense_per_visit</th>\n",
       "    </tr>\n",
       "  </thead>\n",
       "  <tbody>\n",
       "    <tr>\n",
       "      <th>0</th>\n",
       "      <td>10</td>\n",
       "      <td>Medical Specialty Clinic</td>\n",
       "      <td>251.25</td>\n",
       "    </tr>\n",
       "    <tr>\n",
       "      <th>1</th>\n",
       "      <td>50</td>\n",
       "      <td>Diabetes Specialty Clinic</td>\n",
       "      <td>241.25</td>\n",
       "    </tr>\n",
       "    <tr>\n",
       "      <th>2</th>\n",
       "      <td>65</td>\n",
       "      <td>Metabolic Specialty Clinic</td>\n",
       "      <td>516.78</td>\n",
       "    </tr>\n",
       "    <tr>\n",
       "      <th>3</th>\n",
       "      <td>82</td>\n",
       "      <td>Mental Health Specialty Clinic</td>\n",
       "      <td>83.33</td>\n",
       "    </tr>\n",
       "  </tbody>\n",
       "</table>\n",
       "</div>"
      ],
      "text/plain": [
       "   health_centre_number              health_centre_name  \\\n",
       "0                    10        Medical Specialty Clinic   \n",
       "1                    50       Diabetes Specialty Clinic   \n",
       "2                    65      Metabolic Specialty Clinic   \n",
       "3                    82  Mental Health Specialty Clinic   \n",
       "\n",
       "   average_expense_per_visit  \n",
       "0                     251.25  \n",
       "1                     241.25  \n",
       "2                     516.78  \n",
       "3                      83.33  "
      ]
     },
     "metadata": {},
     "output_type": "display_data"
    }
   ],
   "source": [
    "average_expense_per_visit = merged_df.groupby(['health_centre_number', 'health_centre_name'])['expense_per_visit'].mean().reset_index().rename(\n",
    "    columns={'expense_per_visit': 'average_expense_per_visit'}).round(2)\n",
    "\n",
    "# Display the average expense table\n",
    "display (average_expense_per_visit)"
   ]
  },
  {
   "cell_type": "markdown",
   "id": "5bfb51c7-ec92-4179-a294-27d9f368f960",
   "metadata": {},
   "source": [
    "### Data Visualization for insights"
   ]
  },
  {
   "cell_type": "code",
   "execution_count": 51,
   "id": "0090191f-79d5-44ca-9f61-d5b915174dd8",
   "metadata": {
    "scrolled": true
   },
   "outputs": [
    {
     "data": {
      "image/png": "[encoded data removed]",
      "text/plain": [
       "<Figure size 600x300 with 1 Axes>"
      ]
     },
     "metadata": {},
     "output_type": "display_data"
    }
   ],
   "source": [
    "#Bar Chart for Comparision on Health Centre\n",
    "\n",
    "import matplotlib.pyplot as plt\n",
    "\n",
    "plt.figure(figsize=(6, 3))\n",
    "plt.barh(\n",
    "    average_expense_per_visit['health_centre_name'],\n",
    "    average_expense_per_visit['average_expense_per_visit']\n",
    ")\n",
    "plt.xlabel(\"Average Expense per Visit\")\n",
    "plt.ylabel(\"Health Centre\")\n",
    "plt.title(\"Average Expense per Visit by Health Centre\")\n",
    "plt.show()"
   ]
  },
  {
   "cell_type": "code",
   "execution_count": 53,
   "id": "37900b46-c2fb-48c4-8266-97e546f231c7",
   "metadata": {},
   "outputs": [
    {
     "data": {
      "image/png": "[encoded data removed]",
      "text/plain": [
       "<Figure size 600x300 with 1 Axes>"
      ]
     },
     "metadata": {},
     "output_type": "display_data"
    }
   ],
   "source": [
    "#Boxplot for variabiity insights\n",
    "import seaborn as sns\n",
    "import matplotlib.pyplot as plt\n",
    "\n",
    "plt.figure(figsize=(6,3))\n",
    "sns.boxplot(\n",
    "    data=merged_df,\n",
    "    x='health_centre_name',\n",
    "    y='expense_per_visit'\n",
    ")\n",
    "plt.xticks(rotation=45, ha=\"right\")\n",
    "plt.title(\"Expense per Visit Distribution by Health Centre\")\n",
    "plt.xlabel(\"Health Centre\")\n",
    "plt.ylabel(\"Expense per Visit\")\n",
    "plt.show()"
   ]
  },
  {
   "cell_type": "code",
   "execution_count": null,
   "id": "a122205e-54fa-4d28-be94-027cee230f76",
   "metadata": {},
   "outputs": [],
   "source": []
  }
 ],
 "metadata": {
  "kernelspec": {
   "display_name": "Python [conda env:base] *",
   "language": "python",
   "name": "conda-base-py"
  },
  "language_info": {
   "codemirror_mode": {
    "name": "ipython",
    "version": 3
   },
   "file_extension": ".py",
   "mimetype": "text/x-python",
   "name": "python",
   "nbconvert_exporter": "python",
   "pygments_lexer": "ipython3",
   "version": "3.12.7"
  }
 },
 "nbformat": 4,
 "nbformat_minor": 5
}
